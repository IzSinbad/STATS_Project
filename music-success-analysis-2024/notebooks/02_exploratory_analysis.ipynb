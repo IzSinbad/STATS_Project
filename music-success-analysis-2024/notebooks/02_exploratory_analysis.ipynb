{
 "cells": [
  {
   "cell_type": "markdown",
   "metadata": {},
   "source": [
    "# Exploratory Data Analysis\n",
    "\n",
    "This notebook focuses on exploratory analysis of the Spotify streaming and listener preferences datasets. We'll use descriptive statistics and visualizations to understand the data better.\n",
    "\n",
    "## Objectives\n",
    "- Load the cleaned datasets\n",
    "- Explore distributions of key variables\n",
    "- Identify patterns and relationships\n",
    "- Generate initial insights about music streaming success factors"
  
    "In this exploratory analysis, we've examined the Spotify streaming and listener preferences datasets to understand patterns and relationships in music streaming behavior. Here's a summary of our key findings:\n",
    "\n",
    "### Spotify Streaming Data Insights\n",
    "- We identified the top tracks and artists by streaming numbers\n",
    "- We analyzed the distribution of streaming metrics, finding that streaming counts often follow a long-tail distribution\n",
    "- We examined correlations between different streaming metrics to understand relationships between platform performance\n",
    "- We analyzed how release date affects streaming performance\n",
    "\n",
    "### Listener Preferences Insights\n",
    "- We identified the most popular genres among listeners\n",
    "- We analyzed the distribution of streaming platforms used by listeners\n",
    "- We examined listening time preferences (morning/afternoon/night)\n",
    "- We analyzed streaming minutes per day and how they vary by platform and subscription type\n",
    "- We examined the distribution of subscription types (free vs. premium)\n",
    "\n",
    "### Cross-Dataset Analysis\n",
    "- We attempted to connect listener preferences with streaming success metrics\n",
    "- We explored relationships between platform popularity and user engagement\n",
    "\n",
    "### Next Steps\n",
    "The exploratory analysis has provided valuable insights into the data and has set the stage for more advanced statistical analysis. In the next notebook, we'll perform statistical tests to validate our observations and build models to understand the factors that contribute to streaming success."
   ]
  }
